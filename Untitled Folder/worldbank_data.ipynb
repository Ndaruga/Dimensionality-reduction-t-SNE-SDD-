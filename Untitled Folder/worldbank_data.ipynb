{
 "cells": [
  {
   "cell_type": "code",
   "execution_count": null,
   "id": "b79f1e1c",
   "metadata": {},
   "outputs": [],
   "source": []
  },
  {
   "cell_type": "code",
   "execution_count": null,
   "id": "22013bdf",
   "metadata": {},
   "outputs": [],
   "source": []
  },
  {
   "cell_type": "code",
   "execution_count": null,
   "id": "8fff52cd",
   "metadata": {},
   "outputs": [],
   "source": []
  },
  {
   "cell_type": "code",
   "execution_count": 1,
   "id": "37825ed9",
   "metadata": {},
   "outputs": [
    {
     "data": {
      "application/vnd.jupyter.widget-view+json": {
       "model_id": "c202bac417334219b8ff1fdbe0242fc7",
       "version_major": 2,
       "version_minor": 0
      },
      "text/plain": [
       "Dropdown(description='Continent:', index=4, options=('Africa', 'Antarctica', 'Asia', 'Australia/Oceania', 'Eur…"
      ]
     },
     "metadata": {},
     "output_type": "display_data"
    },
    {
     "data": {
      "application/vnd.jupyter.widget-view+json": {
       "model_id": "e4657a1522f940f0b656722775b14f7b",
       "version_major": 2,
       "version_minor": 0
      },
      "text/plain": [
       "IntRangeSlider(value=(1900, 2020), description='Year:', max=2020, min=1900)"
      ]
     },
     "metadata": {},
     "output_type": "display_data"
    }
   ],
   "source": [
    "try:\n",
    "    import piplite\n",
    "    await piplite.install(['ipywidgets'])\n",
    "except ImportError:\n",
    "    pass\n",
    "\n",
    "import ipywidgets as widgets\n",
    "\n",
    "continents = widgets.Dropdown(\n",
    "    options=[\"Africa\", \"Antarctica\", \"Asia\", \"Australia/Oceania\", \"Europe\", \"North America\", \"South America\"],\n",
    "    value='Europe', description='Continent:', disabled=False)\n",
    "\n",
    "years = widgets.IntRangeSlider(\n",
    "    value=[1900, 2020],\n",
    "    min=1900, max=2020,step=1,\n",
    "    description='Year:',\n",
    "    disabled=False, continuous_update=True,\n",
    "    orientation='horizontal',\n",
    "    readout=True, readout_format='d')\n",
    "\n",
    "display(continents)\n",
    "display(years)"
   ]
  },
  {
   "cell_type": "code",
   "execution_count": null,
   "id": "a37a888d",
   "metadata": {},
   "outputs": [],
   "source": []
  },
  {
   "cell_type": "code",
   "execution_count": null,
   "id": "d8d121ff",
   "metadata": {},
   "outputs": [],
   "source": []
  },
  {
   "cell_type": "code",
   "execution_count": 2,
   "id": "7d346b55",
   "metadata": {},
   "outputs": [
    {
     "name": "stdout",
     "output_type": "stream",
     "text": [
      "IntRangeSlider(value=(1900, 2020), description='Year:', max=2020, min=1900)\n"
     ]
    }
   ],
   "source": [
    "print(years)"
   ]
  },
  {
   "cell_type": "code",
   "execution_count": null,
   "id": "e97ac3ad",
   "metadata": {},
   "outputs": [],
   "source": []
  }
 ],
 "metadata": {
  "kernelspec": {
   "display_name": "Python 3 (ipykernel)",
   "language": "python",
   "name": "python3"
  },
  "language_info": {
   "codemirror_mode": {
    "name": "ipython",
    "version": 3
   },
   "file_extension": ".py",
   "mimetype": "text/x-python",
   "name": "python",
   "nbconvert_exporter": "python",
   "pygments_lexer": "ipython3",
   "version": "3.9.12"
  }
 },
 "nbformat": 4,
 "nbformat_minor": 5
}
