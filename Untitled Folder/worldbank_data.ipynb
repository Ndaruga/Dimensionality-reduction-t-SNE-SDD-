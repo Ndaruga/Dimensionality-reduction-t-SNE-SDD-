{
 "cells": [
  {
   "cell_type": "code",
   "execution_count": null,
   "id": "0739dcee",
   "metadata": {},
   "outputs": [],
   "source": []
  },
  {
   "cell_type": "code",
   "execution_count": null,
   "id": "6d81888e",
   "metadata": {},
   "outputs": [],
   "source": []
  },
  {
   "cell_type": "code",
   "execution_count": null,
   "id": "2244e3cf",
   "metadata": {},
   "outputs": [],
   "source": []
  },
  {
   "cell_type": "code",
   "execution_count": 11,
   "id": "3f3fedd0",
   "metadata": {},
   "outputs": [
    {
     "data": {
      "application/vnd.jupyter.widget-view+json": {
       "model_id": "6b627e71f43a48eb869e0e99af0d8e0d",
       "version_major": 2,
       "version_minor": 0
      },
      "text/plain": [
       "Dropdown(description='Continent:', index=4, options=('Africa', 'Antarctica', 'Asia', 'Australia/Oceania', 'Eur…"
      ]
     },
     "metadata": {},
     "output_type": "display_data"
    },
    {
     "data": {
      "application/vnd.jupyter.widget-view+json": {
       "model_id": "fbf6f1bec6a94b0d863d6404cf8726f3",
       "version_major": 2,
       "version_minor": 0
      },
      "text/plain": [
       "IntRangeSlider(value=(1900, 2020), description='Year:', max=2020, min=1900)"
      ]
     },
     "metadata": {},
     "output_type": "display_data"
    }
   ],
   "source": [
    "try:\n",
    "    import piplite\n",
    "    await piplite.install(['ipywidgets'])\n",
    "except ImportError:\n",
    "    pass\n",
    "\n",
    "import ipywidgets as widgets\n",
    "\n",
    "continents = widgets.Dropdown(\n",
    "    options=[\"Africa\", \"Antarctica\", \"Asia\", \"Australia/Oceania\", \"Europe\", \"North America\", \"South America\"],\n",
    "    value='Europe', description='Continent:', disabled=False)\n",
    "\n",
    "years = widgets.IntRangeSlider(\n",
    "    value=[1900, 2020],\n",
    "    min=1900, max=2020,step=1,\n",
    "    description='Year:',\n",
    "    disabled=False, continuous_update=True,\n",
    "    orientation='horizontal',\n",
    "    readout=True, readout_format='d')\n",
    "\n",
    "display(continents)\n",
    "display(years)"
   ]
  },
  {
   "cell_type": "code",
   "execution_count": null,
   "id": "2a57e2d8",
   "metadata": {},
   "outputs": [],
   "source": []
  },
  {
   "cell_type": "code",
   "execution_count": 17,
   "id": "5198e5aa",
   "metadata": {},
   "outputs": [
    {
     "name": "stdout",
     "output_type": "stream",
     "text": [
      "Collecting pycountry_convert\n",
      "  Downloading pycountry_convert-0.7.2-py3-none-any.whl (13 kB)\n",
      "Collecting repoze.lru>=0.7\n",
      "  Downloading repoze.lru-0.7-py3-none-any.whl (10 kB)\n",
      "Requirement already satisfied: pytest>=3.4.0 in c:\\users\\user\\anaconda3\\lib\\site-packages (from pycountry_convert) (7.1.1)\n",
      "Collecting pytest-mock>=1.6.3\n",
      "  Downloading pytest_mock-3.8.2-py3-none-any.whl (9.1 kB)\n",
      "Collecting pytest-cov>=2.5.1\n",
      "  Downloading pytest_cov-3.0.0-py3-none-any.whl (20 kB)\n",
      "Requirement already satisfied: wheel>=0.30.0 in c:\\users\\user\\anaconda3\\lib\\site-packages (from pycountry_convert) (0.37.1)\n",
      "Collecting pycountry>=16.11.27.1\n",
      "  Downloading pycountry-22.3.5.tar.gz (10.1 MB)\n",
      "  Installing build dependencies: started\n",
      "  Installing build dependencies: finished with status 'done'\n",
      "  Getting requirements to build wheel: started\n",
      "  Getting requirements to build wheel: finished with status 'done'\n",
      "    Preparing wheel metadata: started\n",
      "    Preparing wheel metadata: finished with status 'done'\n",
      "Collecting pprintpp>=0.3.0\n",
      "  Downloading pprintpp-0.4.0-py2.py3-none-any.whl (16 kB)\n",
      "Requirement already satisfied: setuptools in c:\\users\\user\\anaconda3\\lib\\site-packages (from pycountry>=16.11.27.1->pycountry_convert) (61.2.0)\n",
      "Requirement already satisfied: attrs>=19.2.0 in c:\\users\\user\\anaconda3\\lib\\site-packages (from pytest>=3.4.0->pycountry_convert) (21.4.0)\n",
      "Requirement already satisfied: iniconfig in c:\\users\\user\\anaconda3\\lib\\site-packages (from pytest>=3.4.0->pycountry_convert) (1.1.1)\n",
      "Requirement already satisfied: packaging in c:\\users\\user\\anaconda3\\lib\\site-packages (from pytest>=3.4.0->pycountry_convert) (21.3)\n",
      "Requirement already satisfied: pluggy<2.0,>=0.12 in c:\\users\\user\\anaconda3\\lib\\site-packages (from pytest>=3.4.0->pycountry_convert) (1.0.0)\n",
      "Requirement already satisfied: py>=1.8.2 in c:\\users\\user\\anaconda3\\lib\\site-packages (from pytest>=3.4.0->pycountry_convert) (1.11.0)\n",
      "Requirement already satisfied: tomli>=1.0.0 in c:\\users\\user\\anaconda3\\lib\\site-packages (from pytest>=3.4.0->pycountry_convert) (1.2.2)\n",
      "Requirement already satisfied: atomicwrites>=1.0 in c:\\users\\user\\anaconda3\\lib\\site-packages (from pytest>=3.4.0->pycountry_convert) (1.4.0)\n",
      "Requirement already satisfied: colorama in c:\\users\\user\\anaconda3\\lib\\site-packages (from pytest>=3.4.0->pycountry_convert) (0.4.4)\n",
      "Collecting coverage[toml]>=5.2.1\n",
      "  Downloading coverage-6.4.4-cp39-cp39-win_amd64.whl (187 kB)\n",
      "Requirement already satisfied: pyparsing!=3.0.5,>=2.0.2 in c:\\users\\user\\anaconda3\\lib\\site-packages (from packaging->pytest>=3.4.0->pycountry_convert) (3.0.4)\n",
      "Building wheels for collected packages: pycountry\n",
      "  Building wheel for pycountry (PEP 517): started\n",
      "  Building wheel for pycountry (PEP 517): finished with status 'done'\n",
      "  Created wheel for pycountry: filename=pycountry-22.3.5-py2.py3-none-any.whl size=10681832 sha256=494d1ec7cfda8ed5369f4f25027dba87e6f706f97d85e88e077fea425e7355a7\n",
      "  Stored in directory: c:\\users\\user\\appdata\\local\\pip\\cache\\wheels\\47\\15\\92\\e6dc85fcb0686c82e1edbcfdf80cfe4808c058813fed0baa8f\n",
      "Successfully built pycountry\n",
      "Installing collected packages: coverage, repoze.lru, pytest-mock, pytest-cov, pycountry, pprintpp, pycountry-convert\n",
      "Successfully installed coverage-6.4.4 pprintpp-0.4.0 pycountry-22.3.5 pycountry-convert-0.7.2 pytest-cov-3.0.0 pytest-mock-3.8.2 repoze.lru-0.7\n",
      "CN\n",
      "AS\n"
     ]
    }
   ],
   "source": [
    "!pip install pycountry_convert\n",
    "import pycountry_convert as pc\n",
    "\n",
    "country_code = pc.country_name_to_country_alpha2(\"China\", cn_name_format=\"default\")\n",
    "print(country_code)\n",
    "continent_name = pc.country_alpha2_to_continent_code(country_code)\n",
    "print(continent_name)"
   ]
  },
  {
   "cell_type": "code",
   "execution_count": 18,
   "id": "253646bf",
   "metadata": {},
   "outputs": [
    {
     "name": "stdout",
     "output_type": "stream",
     "text": [
      "IntRangeSlider(value=(1900, 2020), description='Year:', max=2020, min=1900)\n"
     ]
    }
   ],
   "source": [
    "print(years)"
   ]
  },
  {
   "cell_type": "code",
   "execution_count": null,
   "id": "17c32e18",
   "metadata": {},
   "outputs": [],
   "source": []
  }
 ],
 "metadata": {
  "kernelspec": {
   "display_name": "Python 3 (ipykernel)",
   "language": "python",
   "name": "python3"
  },
  "language_info": {
   "codemirror_mode": {
    "name": "ipython",
    "version": 3
   },
   "file_extension": ".py",
   "mimetype": "text/x-python",
   "name": "python",
   "nbconvert_exporter": "python",
   "pygments_lexer": "ipython3",
   "version": "3.9.12"
  }
 },
 "nbformat": 4,
 "nbformat_minor": 5
}
